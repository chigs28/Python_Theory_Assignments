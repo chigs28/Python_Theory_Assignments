{
 "cells": [
  {
   "cell_type": "markdown",
   "id": "ba79a4b3",
   "metadata": {},
   "source": [
    "1. What are the two values of the Boolean data type? How do you write them?\n",
    "\n",
    "ANS:\n",
    "    True and False. Generally, they are used to represent the truth values of the expressions and represented\n",
    "    by T and F in uppercase while other in lowercase in python.\n",
    "    Ex: 5==5 (True)\n",
    "        5<3 (False)\n",
    "    \n",
    "\n"
   ]
  },
  {
   "cell_type": "markdown",
   "id": "de450270",
   "metadata": {},
   "source": [
    "2. What are the three different types of Boolean operators?\n",
    "\n",
    "ANS: The three different types of Boolean operators are 'and'(&&), 'or'(||) and 'not'(!),also referred as \n",
    "     logical operators. Two operands are required for 'and' as well as 'or' operator (binary operators) while\n",
    "     'not' operator requires one operand, all evaluating to true or false.\n"
   ]
  },
  {
   "cell_type": "markdown",
   "id": "b9da0a49",
   "metadata": {},
   "source": [
    "3. Make a list of each Boolean operator's truth tables (i.e. every possible combination of Boolean\n",
    "   values for the operator and what it evaluate ).\n",
    "   \n",
    "ANS: Truth Table for 'and' operator:\n",
    "\n",
    "     True and True = True\n",
    "     True and False = False\n",
    "     False and True = False\n",
    "     False and False = False\n",
    "     \n",
    "     \n",
    "     Truth Table for 'or' operator:\n",
    "     \n",
    "     True or True = True\n",
    "     True or False = True\n",
    "     False or True = True\n",
    "     False or False = False\n",
    "     \n",
    "     \n",
    "     Truth Table for 'not' operator:\n",
    "     \n",
    "     not(True) = False\n",
    "     not(False) = True\n",
    "\n"
   ]
  },
  {
   "cell_type": "markdown",
   "id": "37874eea",
   "metadata": {},
   "source": [
    "4. What are the values of the following expressions?\n",
    "\n",
    "        (5 > 4) and (3 == 5)                      = False       \n",
    "        not (5 > 4)                               = False\n",
    "        (5 > 4) or (3 == 5)                       = True\n",
    "        not ((5 > 4) or (3 == 5))                 = False\n",
    "        (True and True) and (True == False)       = False\n",
    "        (not False) or (not True)                 = True"
   ]
  },
  {
   "cell_type": "markdown",
   "id": "f2521097",
   "metadata": {},
   "source": [
    "5. What are the six comparison operators?\n",
    "\n",
    "ANS: Python has six comparison operators, which are mentioned below:\n",
    "\n",
    "    Less than ( < )\n",
    "    Less than or equal to (<=)\n",
    "    Greater than (>)\n",
    "    Greater than or equal to (>=)\n",
    "    Equal to ( == )\n",
    "    Not equal to ( != )\n",
    "\n",
    "    These comparison operators compare two values and return a boolean value, either True or False."
   ]
  },
  {
   "cell_type": "markdown",
   "id": "b2f32f82",
   "metadata": {},
   "source": [
    "6. How do you tell the difference between the equal to and assignment operators? Describe a\n",
    "    condition and when you would use one.\n",
    "    \n",
    "ANS: The assignment operator(“=”) is used to assign the value on the right to the variable on the left.\n",
    "     Value can be assigned anything like integer, float or string. It is used to store value within a variable.\n",
    "     Ex: a = 10\n",
    "         b = 5.5\n",
    "         c = \"Chirag\"\n",
    "     \n",
    "     While, the equal to(‘==’)operator is a comparison operator which checks whether the two given operands\n",
    "     are equal or not. If they are equal then it returns True. Otherwise it returns False.\n",
    "     Equal to operator mainly used while specifying any condition with for,if-else loop.\n",
    "     Ex: a==a gives 'True'\n",
    "         5==3 gives 'False'"
   ]
  },
  {
   "cell_type": "markdown",
   "id": "c194d89e",
   "metadata": {},
   "source": [
    "7. Identify the three blocks in this code:\n",
    "\n",
    "ANS: The three blocks are everything inside the starting if statement and the lines print('bacon') and \n",
    "     print('ham').\n",
    "      \n",
    "    print('eggs')\n",
    "    if spam > 5:\n",
    "        print('bacon')\n",
    "    else:\n",
    "        print('ham')\n",
    "    print('spam')"
   ]
  },
  {
   "cell_type": "code",
   "execution_count": 12,
   "id": "b0e529a0",
   "metadata": {},
   "outputs": [
    {
     "name": "stdout",
     "output_type": "stream",
     "text": [
      "enter the value of spam: 1\n",
      "Hello\n"
     ]
    }
   ],
   "source": [
    "# 8. Write code that prints Hello if 1 is stored in spam, prints Howdy if 2 is stored in spam, and prints\n",
    "#   Greetings! if anything else is stored in spam.\n",
    "\n",
    "spam = int(input(\"enter the value of spam: \"))\n",
    "\n",
    "if spam == 1:\n",
    "    print(\"Hello\")\n",
    "elif spam == 2:\n",
    "    print(\"Howdy\")\n",
    "else:\n",
    "    print(\"Greetings!\") \n",
    "    \n",
    "   \n"
   ]
  },
  {
   "cell_type": "markdown",
   "id": "9b160416",
   "metadata": {},
   "source": [
    "9. If your programme is stuck in an endless loop, what keys you’ll press?\n",
    "\n",
    "ANS: Press CTRL + C on keyboard to stop the infinite loop."
   ]
  },
  {
   "cell_type": "markdown",
   "id": "00539e55",
   "metadata": {},
   "source": [
    "10. How can you tell the difference between break and continue?\n",
    "\n",
    "ANS: When bresak keyword is used in any loop, it terminates the execution of current loop and control of \n",
    "     program flow moves over the next loop or main body, while continue keyword skips the current iteration \n",
    "     and executes very next iterations in the loop."
   ]
  },
  {
   "cell_type": "markdown",
   "id": "7aeddc56",
   "metadata": {},
   "source": [
    "11. In a for loop, what is the difference between range(10), range(0, 10), and range(0, 10, 1)?\n",
    "\n",
    "ANS: These all range statement will give the same result of a sequence starting from 0 to 9 with a difference of 1.\n",
    "     Range(10) will call the value from include 0 to 10(excluding). \n",
    "     Range(0, 10) will explicitely tells loop to start from 0 and ending at 9.\n",
    "     Range(0, 10, 1) will explicitely tells the loop to increment the variable value by 1 on each iteration."
   ]
  },
  {
   "cell_type": "code",
   "execution_count": 19,
   "id": "38e6e8ee",
   "metadata": {},
   "outputs": [
    {
     "name": "stdout",
     "output_type": "stream",
     "text": [
      "1\n",
      "2\n",
      "3\n",
      "4\n",
      "5\n",
      "6\n",
      "7\n",
      "8\n",
      "9\n",
      "10\n",
      "1\n",
      "2\n",
      "3\n",
      "4\n",
      "5\n",
      "6\n",
      "7\n",
      "8\n",
      "9\n",
      "10\n"
     ]
    }
   ],
   "source": [
    "# 12. Write a short program that prints the numbers 1 to 10 using a for loop. Then write an equivalent\n",
    "#     program that prints the numbers 1 to 10 using a while loop.\n",
    "    \n",
    "# Using for loop:\n",
    "\n",
    "for i in range(1,11):\n",
    "    print(i)\n",
    "    \n",
    "# Using While Loop:\n",
    "\n",
    "i =1\n",
    "while(i<11):\n",
    "    print(i)\n",
    "    i = i+1\n",
    "    "
   ]
  },
  {
   "cell_type": "markdown",
   "id": "90c07cff",
   "metadata": {},
   "source": [
    "13. If you had a function named bacon() inside a module named spam, how would you call it after\n",
    "    importing spam?\n",
    "    \n",
    "ANS: Function can be called with \"spam.bacon()\"."
   ]
  }
 ],
 "metadata": {
  "kernelspec": {
   "display_name": "Python 3 (ipykernel)",
   "language": "python",
   "name": "python3"
  },
  "language_info": {
   "codemirror_mode": {
    "name": "ipython",
    "version": 3
   },
   "file_extension": ".py",
   "mimetype": "text/x-python",
   "name": "python",
   "nbconvert_exporter": "python",
   "pygments_lexer": "ipython3",
   "version": "3.9.7"
  }
 },
 "nbformat": 4,
 "nbformat_minor": 5
}
