{
 "cells": [
  {
   "cell_type": "markdown",
   "id": "4ee5e462",
   "metadata": {},
   "source": [
    "1. What exactly is []?\n",
    "\n",
    "ANS: This is an empty list value which contains no items in the list, similar to the empty string(\"\") value."
   ]
  },
  {
   "cell_type": "markdown",
   "id": "a81d5903",
   "metadata": {},
   "source": [
    "2. In a list of values stored in a variable called spam, how would you assign the value 'hello' as the\n",
    "   third value? (Assume [2, 4, 6, 8, 10] are in spam.)\n",
    "\n",
    "ANS: Initially, spam = [2, 4, 6, 8, 10] \n",
    "     Then, 'hello' can be assigned in spam list by:\n",
    "     spam[2] = 'hello'\n",
    "     Indexing starts from 0 in case of list, thus for the third place we have to assign the string value \n",
    "     'hell0' at 2nd index.\n"
   ]
  },
  {
   "cell_type": "code",
   "execution_count": 2,
   "id": "e918af7c",
   "metadata": {},
   "outputs": [
    {
     "data": {
      "text/plain": [
       "[2, 4, 'hello', 8, 10]"
      ]
     },
     "execution_count": 2,
     "metadata": {},
     "output_type": "execute_result"
    }
   ],
   "source": [
    "spam = [2, 4, 6, 8, 10] \n",
    "spam[2] = 'hello'\n",
    "spam"
   ]
  },
  {
   "cell_type": "markdown",
   "id": "ce21f191",
   "metadata": {},
   "source": [
    "<!-- Let's pretend the spam includes the list ['a','b','c','d'] for the next three queries. -->"
   ]
  },
  {
   "cell_type": "markdown",
   "id": "dce13430",
   "metadata": {},
   "source": [
    "3. What is the value of spam[int(int('3' * 2) / 11)]?\n",
    "   \n",
    "ANS: The value would be 'd'.\n",
    "     Here, ('3'* 2) would results into string '33' and then converted into integer type 33. After, it\n",
    "     got divided by 11 and evaluates to 3 in the integer type.\n",
    "     This 3 will behave as an index for the spam list and spam[3] would finally results into 'd'."
   ]
  },
  {
   "cell_type": "markdown",
   "id": "0a7d7857",
   "metadata": {},
   "source": [
    "4. What is the value of spam[-1]?\n",
    "\n",
    "ANS: This will result into 'd' as negative index counts from the end value of the list and -1 will give the first\n",
    "     value from the end.\n"
   ]
  },
  {
   "cell_type": "markdown",
   "id": "dd51d0d7",
   "metadata": {},
   "source": [
    "5. What is the value of spam[:2]?\n",
    "\n",
    "ANS: This will result into ['a','b'].\n",
    "     The value before column start indexing from given value. As, here is not given, then in that case it\n",
    "     always starts from 0 and upto the value after the column while excluding that.\n",
    "     That's why index 2 value hasn't been included and only 0 and 1 index value will be provided."
   ]
  },
  {
   "cell_type": "markdown",
   "id": "ea630282",
   "metadata": {},
   "source": [
    "<!-- Let's pretend bacon has the list [3.14,'cat',11,'cat',True] for the next three questions. -->"
   ]
  },
  {
   "cell_type": "markdown",
   "id": "8e253eba",
   "metadata": {},
   "source": [
    "6. What is the value of bacon.index('cat')?\n",
    "    \n",
    "ANS: The value would be 1 as index value of 'cat' in bacon list is 1."
   ]
  },
  {
   "cell_type": "markdown",
   "id": "c4008625",
   "metadata": {},
   "source": [
    "7. How does bacon.append(99) change the look of the list value in bacon?\n",
    "\n",
    "ANS: Append function will add 99 to the bacon list in the end.\n",
    "     Now, bacon = [3.14,'cat',11,'cat',True,99]\n"
   ]
  },
  {
   "cell_type": "markdown",
   "id": "4d3ea6e2",
   "metadata": {},
   "source": [
    "8. How does bacon.remove('cat') change the look of the list in bacon?\n",
    "\n",
    "ANS: Remove function will drop the 'cat' element from the list.\n",
    "     Now, bacon = [3.14,11,'cat',True]"
   ]
  },
  {
   "cell_type": "markdown",
   "id": "e608d21f",
   "metadata": {},
   "source": [
    "9. What are the list concatenation and list replication operators?\n",
    "\n",
    "ANS: '+' is the list concatenation operator which adds the lists together into one list.\n",
    "     Ex: list1 = [5,6,3] + [2,4] + [5,7,9]\n",
    "              = [5, 6, 3, 2, 4, 5, 7, 9]\n",
    "              \n",
    "     \n",
    "     While the operator for replication is '*', which repeats the items of the list by the amount multiplied by \n",
    "     an integer.\n",
    "     Ex-1: list2 = [5, \"hello\", 3.5] *3\n",
    "                 = [5, 'hello', 3.5, 5, 'hello', 3.5, 5, 'hello', 3.5]\n",
    "          \n",
    "     (This is the same as for strings.)"
   ]
  },
  {
   "cell_type": "markdown",
   "id": "10df722b",
   "metadata": {},
   "source": [
    "10. What is difference between the list methods append() and insert()?\n",
    "\n",
    "ANS: Append() will add values only to the end of a list while insert() can add them anywhere in the list \n",
    "     when index and value arguments given in insert method.\n",
    "\n",
    "     Ex append Method: list = [1,2,\"s\", 5.5]\n",
    "                       list.append(33)\n",
    "                       list = [1, 2, 's', 5.5, 33]\n",
    "                       \n",
    "     Ex insert Method: list = [1,2,\"s\", 5.5]\n",
    "                       list.insert(2,33)\n",
    "                       list = [1, 2, 33, 's', 5.5]\n"
   ]
  },
  {
   "cell_type": "markdown",
   "id": "6dba835d",
   "metadata": {},
   "source": [
    "11. What are the two methods for removing items from a list?\n",
    "\n",
    "ANS: The 'del' statement and the 'remove()' list method are two ways to remove values from a list.\n",
    "     Also 'pop()' methods can be used to remove an item from list.\n",
    "     \n",
    "     Method del uses index to remove the item from the list while remove() method requires value\n",
    "     which need to be eliminate from the list as the argument.\n",
    "     \n",
    "     Pop() method removes item on the basis of index given in the argument. If not given any, then \n",
    "     it will pop out the last value of the list.\n",
    "     \n",
    "     Ex del Method:    list = [1,2,\"s\", 5.5]\n",
    "                       del list[1]\n",
    "                       list = [1, 's', 5.5]\n",
    "                    \n",
    "     Ex remove Method: list = [1,2,\"s\", 5.5]\n",
    "                       list.remove(\"s\")\n",
    "                       list = [1,2,5.5]\n",
    "                       \n",
    "     Ex pop Method:    list = [1,2,\"s\", 5.5]\n",
    "                       list.pop(1)\n",
    "                       list = [1,\"s\",5.5]  \n",
    "                       list.pop()\n",
    "                       list = [1,\"s\"] "
   ]
  },
  {
   "cell_type": "markdown",
   "id": "c0685eb7",
   "metadata": {},
   "source": [
    "12. Describe how list values and string values are identical.\n",
    "\n",
    "ANS: Both lists and strings can be passed to len(), have indexes and slices, can be used in 'for' loops, can be \n",
    "     concatenated or replicated, and be used with the in and not in operators."
   ]
  },
  {
   "cell_type": "markdown",
   "id": "356d9c40",
   "metadata": {},
   "source": [
    "13. What's the difference between tuples and lists?\n",
    "    \n",
    "ANS: The main difference is that tuples are immutable which means their values can't be replaced, modified or\n",
    "     altered, while lists are mutable and their values can be replaced, modified and changed using indices \n",
    "     methods.\n",
    "     \n",
    "     List iteration is slower and is time consuming, while tuple iteration is quite faster.\n",
    "     \n",
    "     Lists are defined using squared bracket([]) or list() method, while tuples are defined using\n",
    "     parentheses or () or tuples() method."
   ]
  },
  {
   "cell_type": "markdown",
   "id": "5eb9c986",
   "metadata": {},
   "source": [
    "14. How do you type a tuple value that only contains the integer 42?\n",
    "\n",
    "ANS: tuple = (42,) will defined it as tuple. (trailing comma(,) is mandatory, otherwise it will be defined as \n",
    "     int type."
   ]
  },
  {
   "cell_type": "markdown",
   "id": "e0492452",
   "metadata": {},
   "source": [
    "15. How do you get a list value's tuple form? How do you get a tuple value's list form?\n",
    "\n",
    "ANS: By using tuple() and list() function respectively.\n",
    "     Ex-1: list value's tuple form:\n",
    "           tuple = ([2,\"shubham\"],[5,\"chirag\",7.5],[\"a\",\"y\",390])\n",
    "           \n",
    "     Ex-2: tuple value's list form:\n",
    "           list = [(2,\"shubham\"),(5,\"chirag\",7.5),(\"a\",\"y\",39)] "
   ]
  },
  {
   "cell_type": "markdown",
   "id": "d5aac1b2",
   "metadata": {},
   "source": [
    "16. Variables that \"contain\" list values are not necessarily lists themselves. Instead, what do they\n",
    "    contain?\n",
    "    \n",
    "ANS: They contain references to list values."
   ]
  },
  {
   "cell_type": "markdown",
   "id": "b4d162dd",
   "metadata": {},
   "source": [
    "17. How do you distinguish between copy.copy() and copy.deepcopy()?\n",
    "\n",
    "ANS: copy.copy() can be utilized to form a duplicate copy of a mutable value like a list or dictionary, not just\n",
    "     a copy of a reference, while if we want to copy a list which contains another lists, then use the\n",
    "     copy.deepcopy() function instead of copy.copy(). This deepcopy() function will copy these inner lists as well.\n",
    "\n"
   ]
  }
 ],
 "metadata": {
  "kernelspec": {
   "display_name": "Python 3 (ipykernel)",
   "language": "python",
   "name": "python3"
  },
  "language_info": {
   "codemirror_mode": {
    "name": "ipython",
    "version": 3
   },
   "file_extension": ".py",
   "mimetype": "text/x-python",
   "name": "python",
   "nbconvert_exporter": "python",
   "pygments_lexer": "ipython3",
   "version": "3.9.7"
  }
 },
 "nbformat": 4,
 "nbformat_minor": 5
}
