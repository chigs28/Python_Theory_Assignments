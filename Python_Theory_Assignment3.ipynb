{
 "cells": [
  {
   "cell_type": "markdown",
   "id": "5a41ee69",
   "metadata": {},
   "source": [
    "1. Why are functions advantageous to have in your programs?\n",
    "\n",
    "ANS: Functions eliminate the requirement of duplicate code and this makes program efficient, quick, easily readable\n",
    "     and updatable when require. \n",
    "\n"
   ]
  },
  {
   "cell_type": "markdown",
   "id": "caafd29b",
   "metadata": {},
   "source": [
    "2. When does the code in a function run: when it's specified or when it's called?\n",
    "\n",
    "ANS: The code in a functio run or executes when the function is called, not when the function is specified\n",
    "     or defined.\n"
   ]
  },
  {
   "cell_type": "markdown",
   "id": "0f6eb482",
   "metadata": {},
   "source": [
    "3. What statement creates a function?\n",
    "   \n",
    "ANS: \"def\" keybord creates a function in python. Representation of defining any function is stated below:\n",
    "\n",
    "     def function_name():"
   ]
  },
  {
   "cell_type": "markdown",
   "id": "e480d81f",
   "metadata": {},
   "source": [
    "4. What is the difference between a function and a function call?\n",
    "\n",
    "ANS: A function composed of the def statement and the code in the def clause and it does nothing untill called,\n",
    "     while function call is the one which assists to move the program execution in the function. And, the function\n",
    "     call results to the function's return value.\n"
   ]
  },
  {
   "cell_type": "markdown",
   "id": "b8f037c3",
   "metadata": {},
   "source": [
    "5. How many global scopes are there in a Python program? How many local scopes?\n",
    "\n",
    "ANS: There is one global scope, and a local scope is created whenever a function is called."
   ]
  },
  {
   "cell_type": "markdown",
   "id": "378a5e60",
   "metadata": {},
   "source": [
    "6. What happens to variables in a local scope when the function call returns?\n",
    "    \n",
    "ANS: When the function call returns, the local scope is destroyed, and all the variables in it are forgotten."
   ]
  },
  {
   "cell_type": "markdown",
   "id": "f6c73351",
   "metadata": {},
   "source": [
    "7. What is the concept of a return value? Is it possible to have a return value in an expression?\n",
    "\n",
    "ANS: A return statement is used to terminate the execution of function call and it evaluates to a result to\n",
    "     the function caller.\n",
    "     Like any other value, a return value can be used as part of an expression. If the return statement is \n",
    "     without any expression, then the special value None is returned."
   ]
  },
  {
   "cell_type": "markdown",
   "id": "289dceff",
   "metadata": {},
   "source": [
    "8. If a function does not have a return statement, what is the return value of a call to that function?\n",
    "\n",
    "ANS: If a function does not have a return statement then its return value is \"None\", when call to that function."
   ]
  },
  {
   "cell_type": "markdown",
   "id": "2706cb1a",
   "metadata": {},
   "source": [
    "9. How do you make a function variable refer to the global variable?\n",
    "\n",
    "ANS: A \"global\" statement will force a variable in a function to refer to the global variable."
   ]
  },
  {
   "cell_type": "markdown",
   "id": "fc757fae",
   "metadata": {},
   "source": [
    "10. What is the data type of None?\n",
    "\n",
    "ANS: The data type of None is \"NoneType\"."
   ]
  },
  {
   "cell_type": "markdown",
   "id": "9e9607a6",
   "metadata": {},
   "source": [
    "11. What does the sentence import areallyourpetsnamederic do?\n",
    "\n",
    "ANS: This import sentence imports a module named areallyourpetsnamederic. However, there is no such type of\n",
    "     real python module."
   ]
  },
  {
   "cell_type": "markdown",
   "id": "ad673621",
   "metadata": {},
   "source": [
    "12. If you had a bacon() feature in a spam module, what would you call it after importing spam?\n",
    "\n",
    "ANS: This function can be called with spam.bacon() after importing spam."
   ]
  },
  {
   "cell_type": "markdown",
   "id": "a20be49a",
   "metadata": {},
   "source": [
    "13. What can you do to save a programme from crashing if it encounters an error?\n",
    "    \n",
    "ANS: To save a programme from crashing if it encounters an error can be done by Placing the line of code that \n",
    "     might cause an error in a try clause."
   ]
  },
  {
   "cell_type": "markdown",
   "id": "f9bceb36",
   "metadata": {},
   "source": [
    "14. What is the purpose of the try clause? What is the purpose of the except clause?\n",
    "\n",
    "ANS: Try-except clauses are helpful for exception or error handlings in python.\n",
    "     Try clause hold the code where there is chances of potential errors and if an exception is raised then it \n",
    "     jumps straight back to the except clause.\n",
    "     Except clause holds the code which executed if an error happens."
   ]
  }
 ],
 "metadata": {
  "kernelspec": {
   "display_name": "Python 3 (ipykernel)",
   "language": "python",
   "name": "python3"
  },
  "language_info": {
   "codemirror_mode": {
    "name": "ipython",
    "version": 3
   },
   "file_extension": ".py",
   "mimetype": "text/x-python",
   "name": "python",
   "nbconvert_exporter": "python",
   "pygments_lexer": "ipython3",
   "version": "3.9.7"
  }
 },
 "nbformat": 4,
 "nbformat_minor": 5
}
