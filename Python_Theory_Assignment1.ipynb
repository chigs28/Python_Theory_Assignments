{
 "cells": [
  {
   "cell_type": "markdown",
   "id": "ace2976a",
   "metadata": {},
   "source": [
    "Q1. In the below elements which of them are values or an expression? eg:- values can be\n",
    "integer or string and expressions will be mathematical operators.\n",
    "\n",
    "ANS: \n",
    "        VALUES: 'hello', -87.8, 6\n",
    "        EXPRESSIONS: -, +, /\n"
   ]
  },
  {
   "cell_type": "markdown",
   "id": "d23d35fc",
   "metadata": {},
   "source": []
  },
  {
   "cell_type": "markdown",
   "id": "888fc15f",
   "metadata": {},
   "source": [
    "Q2. What is the difference between string and variable?\n",
    "\n",
    "ANS: Variables is the property that can take up any value or data. Data values can be of different types \n",
    "    such as integer, float or strings.\n",
    "    However, string is a type of data that can be stored in a variable. Strings usually represented within \"\" \n",
    "    or '' and it composed of alphabets or numbers.\n",
    "\n",
    "    For ex: X = \"Chirag\"\n",
    "    X is the variable which holds the string value \"Chirag\"."
   ]
  },
  {
   "cell_type": "markdown",
   "id": "8574ed8b",
   "metadata": {},
   "source": []
  },
  {
   "cell_type": "markdown",
   "id": "c1fe6f5a",
   "metadata": {},
   "source": [
    "Q3. Describe three different data types.\n",
    "\n",
    "ANS: \n",
    "    1. Numeric Data Type: holds numeric values like\n",
    "    (a) int: contains signed integer values. (eg- 5,-245)\n",
    "    (b) float: holds floating numbers, accurate up to 15 decimal places. (eg - 2.45,-6.19)\n",
    "    (c) complex: holds complex numbers. (eg - 2+3j)\n",
    "        \n",
    "    2. String Data Type:\n",
    "        Strings is formed with the sequenced characters/alphabets or numbers enclosed within \n",
    "        single('')/double(\"\") quotes.\n",
    "        (eg - \"This is a string.\", \"56\")\n",
    "        \n",
    "    3. List Data Type:\n",
    "        List contains heterogenous data(such as string, int or float) values inside it within a larger bracket[],\n",
    "        separated by commas(,).\n",
    "        Usual notation of representing list is (list() or list =[]).\n",
    "        Lists are mutable objects means there values can be replaced with another value inside the list\n",
    "        at different location.\n",
    "        (eg - [5,23,46.5, \"List\", (34,6)])\n",
    "        "
   ]
  },
  {
   "cell_type": "markdown",
   "id": "aff65715",
   "metadata": {},
   "source": []
  },
  {
   "cell_type": "markdown",
   "id": "d01c5ed5",
   "metadata": {},
   "source": [
    "Q4. What is an expression made up of? What do all expressions do?\n",
    "\n",
    "ANS: An expression is made up with the combination of operands and operators and it produces some value after\n",
    "    being interpreted by the python interpreter. Expressions are evaluated based on the precedence of operator.\n",
    "    eg. [x = 25+ 5.9 - 6] evaluated to 24.9 when we print the value of x.\n",
    "    \n",
    "    Different types of expression in python are:\n",
    "    1. Constant Expressions\n",
    "    2. Arithmetic Expressions\n",
    "    3. Integral Expressions\n",
    "    4. Floating Expressions\n",
    "    5. Relational Expressions\n",
    "    6. Logical Expressions\n",
    "    7. Bitwise Expressions\n",
    "    8. Combinational Expressions"
   ]
  },
  {
   "cell_type": "markdown",
   "id": "39c5c413",
   "metadata": {},
   "source": []
  },
  {
   "cell_type": "markdown",
   "id": "1f9dd292",
   "metadata": {},
   "source": [
    "Q5. This assignment statements, like spam = 10. What is the difference between an\n",
    "expression and a statement?\n",
    "\n",
    "ANS: A statement in Python is used for creating variables or for showing results while expressions in python\n",
    "    produces some value after being interpreted by the python interpreter.\n",
    "    A statement can be an expression while an expression can't be a statement.\t\n",
    "    \n",
    "    Example Statement: x = 8\n",
    "                       print(x)   [output=8]\n",
    "    \n",
    "    Example Expression: x = 25 + 5.9 - 6    [output =24.9]\n"
   ]
  },
  {
   "cell_type": "markdown",
   "id": "ec1f9e45",
   "metadata": {},
   "source": []
  },
  {
   "cell_type": "markdown",
   "id": "04734629",
   "metadata": {},
   "source": [
    "Q6. After running the following code, what does the variable bacon contain?\n",
    "    bacon = 22\n",
    "    bacon + 1\n",
    "\n",
    "ANS: The variable bacon contains 22 as the expression(bacon + 1) was not assigned to bacon variable."
   ]
  },
  {
   "cell_type": "markdown",
   "id": "123f43d3",
   "metadata": {},
   "source": []
  },
  {
   "cell_type": "markdown",
   "id": "4c1e1543",
   "metadata": {},
   "source": [
    "Q7. What should the values of the following two terms be?\n",
    "    'spam' + 'spamspam'\n",
    "    'spam' * 3\n",
    "\n",
    "ANS: The value of two terms would be the same('spamspamspam')."
   ]
  },
  {
   "cell_type": "markdown",
   "id": "ce775ed2",
   "metadata": {},
   "source": []
  },
  {
   "cell_type": "markdown",
   "id": "52949822",
   "metadata": {},
   "source": [
    "Q8. Why is eggs a valid variable name while 100 is invalid?\n",
    "\n",
    "ANS: Variable name can't start with numbers but it can be started with any character/alphabet or underscore(_).\n",
    "    That's why 'eggs' is a valid variable name while 100 is invalid."
   ]
  },
  {
   "cell_type": "markdown",
   "id": "2d913345",
   "metadata": {},
   "source": []
  },
  {
   "cell_type": "markdown",
   "id": "fd618423",
   "metadata": {},
   "source": [
    "Q9. What three functions can be used to get the integer, floating-point number, or string\n",
    "version of a value?\n",
    "\n",
    "ANS: For integer: int()\n",
    "     For floating-point number: float()\n",
    "     For string: str()\n",
    "     when value passed in these functions, they will return the respective data type values."
   ]
  },
  {
   "cell_type": "markdown",
   "id": "b55509e4",
   "metadata": {},
   "source": []
  },
  {
   "cell_type": "markdown",
   "id": "9cbb8800",
   "metadata": {},
   "source": [
    "Q10. Why does this expression cause an error? How can you fix it?\n",
    "    'I have eaten'+ 99 + 'burritos.'\n",
    "\n",
    "ANS: This expression gives an error 'an only concatenate str (not \"int\") to str', means string can't be\n",
    "    concatenate with the integer.\n",
    "    To rectify it, first we need to convert int(99) to string value by using str(99) and then after \n",
    "    concatenation it will give the required expression.['I have eaten99burritos.']\n",
    "    \n",
    "    'I have eaten'+ str(99) + 'burritos.'\n"
   ]
  },
  {
   "cell_type": "code",
   "execution_count": null,
   "id": "dce12201",
   "metadata": {},
   "outputs": [],
   "source": []
  }
 ],
 "metadata": {
  "kernelspec": {
   "display_name": "Python 3 (ipykernel)",
   "language": "python",
   "name": "python3"
  },
  "language_info": {
   "codemirror_mode": {
    "name": "ipython",
    "version": 3
   },
   "file_extension": ".py",
   "mimetype": "text/x-python",
   "name": "python",
   "nbconvert_exporter": "python",
   "pygments_lexer": "ipython3",
   "version": "3.9.7"
  }
 },
 "nbformat": 4,
 "nbformat_minor": 5
}
