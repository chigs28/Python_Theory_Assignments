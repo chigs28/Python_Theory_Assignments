{
 "cells": [
  {
   "cell_type": "markdown",
   "id": "4ee5e462",
   "metadata": {},
   "source": [
    "1. What does an empty dictionary's code look like?\n",
    "\n",
    "ANS: Two curly brackets: {} or dict() function."
   ]
  },
  {
   "cell_type": "markdown",
   "id": "a81d5903",
   "metadata": {},
   "source": [
    "2. What is the value of a dictionary value with the key 'foo' and the value 42?\n",
    "\n",
    "ANS: {'foo': 42}"
   ]
  },
  {
   "cell_type": "markdown",
   "id": "dce13430",
   "metadata": {},
   "source": [
    "3. What is the most significant distinction between a dictionary and a list?\n",
    "   \n",
    "ANS: \n",
    "    - List refers to the collection of multitudinous value pairs similar to the arrays in c++ and java but \n",
    "      can hold heterogenous data. While a dictionary refers to the hashed structure of various pairs \n",
    "      of keys and values.\n",
    "      \n",
    "    - Lists can be created by keeping all the values into a [] and separating the values by using \",\"(commas).\n",
    "      While, dictionary can be created by placing elements in {} as key”:”value” and each key value pair is\n",
    "      separated by “,“(commas).\n",
    "      \n",
    "\t- List indices are in the form of integers, starting from 0, while, dictionary keys can be of any data\n",
    "      type.\n",
    "      \n",
    "    - Lists are ordered, mutable, and allows duplicate values, while dictionary is unordered but mutable, \n",
    "      and it doesn't allow duplicate values with the same key in it.\n",
    "      "
   ]
  },
  {
   "cell_type": "markdown",
   "id": "0a7d7857",
   "metadata": {},
   "source": [
    "4. What happens if you try to access spam['foo'] if spam is {'bar': 100}?\n",
    "\n",
    "ANS: It will give a \"keyerror\" error as there is no key-value named 'foo' is available inside spam.\n"
   ]
  },
  {
   "cell_type": "markdown",
   "id": "dd51d0d7",
   "metadata": {},
   "source": [
    "5. If a dictionary is stored in spam, what is the difference between the expressions 'cat' in spam and 'cat'\n",
    "   in spam.keys()?\n",
    "\n",
    "ANS: There is no difference and both will give the value as \"True\". The 'in' keyword checks whether a value\n",
    "     exists as a key in the dictionary in both the cases."
   ]
  },
  {
   "cell_type": "markdown",
   "id": "8e253eba",
   "metadata": {},
   "source": [
    "6. If a dictionary is stored in spam, what is the difference between the expressions 'cat' in spam and\n",
    "   'cat' in spam.values()?\n",
    "    \n",
    "ANS: 'cat' in spam checks whether there is a 'cat' key exists in the dictionary or not, while 'cat' in\n",
    "     spam.values() checks whether there is a value named 'cat' is present for one of the keys in spam."
   ]
  },
  {
   "cell_type": "markdown",
   "id": "c4008625",
   "metadata": {},
   "source": [
    "7. What is a shortcut for the following code?\n",
    "        if 'color' not in spam:\n",
    "           spam['color'] = 'black'\n",
    "\n",
    "ANS: spam.setdefault('color', 'black')\n",
    "     setdefault() method inserts the key-value in the dictionary if the same key does not exist initially.\n"
   ]
  },
  {
   "cell_type": "markdown",
   "id": "dda9d58c",
   "metadata": {},
   "source": [
    "8. How do you \"pretty print\" dictionary values using which module and function?\n",
    "\n",
    "ANS: pprint.pprint()"
   ]
  }
 ],
 "metadata": {
  "kernelspec": {
   "display_name": "Python 3 (ipykernel)",
   "language": "python",
   "name": "python3"
  },
  "language_info": {
   "codemirror_mode": {
    "name": "ipython",
    "version": 3
   },
   "file_extension": ".py",
   "mimetype": "text/x-python",
   "name": "python",
   "nbconvert_exporter": "python",
   "pygments_lexer": "ipython3",
   "version": "3.9.7"
  }
 },
 "nbformat": 4,
 "nbformat_minor": 5
}
